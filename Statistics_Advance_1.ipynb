{
  "nbformat": 4,
  "nbformat_minor": 0,
  "metadata": {
    "colab": {
      "provenance": []
    },
    "kernelspec": {
      "name": "python3",
      "display_name": "Python 3"
    },
    "language_info": {
      "name": "python"
    }
  },
  "cells": [
    {
      "cell_type": "markdown",
      "source": [
        "# Statistics advance1"
      ],
      "metadata": {
        "id": "29KpdEPV7MiJ"
      }
    },
    {
      "cell_type": "markdown",
      "source": [
        "1. What is a random variable in probability theory?\n",
        "  - A random variable is a numerical outcome of a random phenomenon. It assigns a real number to each outcome in a sample space. There are two types: discrete (finite/countable outcomes) and continuous (infinite/unmeasurable outcomes).\n",
        "2. What are the types of random variables?\n",
        "  - There are two main types of random variables:\n",
        "\n",
        "   Discrete Random Variable: Takes on a finite or countably infinite set of values (e.g., number of heads in coin tosses).\n",
        "   Continuous Random Variable: Takes on an uncountably infinite number of values (e.g., time, temperature).\n",
        "3. What is the difference between discrete and continuous distributions?\n",
        "  - Discrete distributions describe the probability of outcomes of a discrete random variable. Continuous distributions describe the probability over a range of values of a continuous random variable using a density function.\n",
        "4. What are probability distribution functions (PDF)?\n",
        "  - For continuous variables, a Probability Density Function (PDF) describes the likelihood of a random variable falling within a range of values. The area under the curve of a PDF over an interval gives the probability of that interval.\n",
        "5. How do cumulative distribution functions (CDF) differ from probability distribution functions (PDF)?\n",
        "  - A CDF gives the probability that a random variable is less than or equal to a certain value, i.e., F(x) = P(X ≤ x). It is the integral (for continuous) or sum (for discrete) of the PDF up to x.\n",
        "6. What is a discrete uniform distribution?\n",
        "  - A discrete uniform distribution is one where each outcome in a finite set has the same probability. Example: rolling a fair die (each face has 1/6 probability).\n",
        "7. What are the key properties of a Bernoulli distribution?\n",
        "  - A Bernoulli distribution models a single trial with two outcomes: success (1) with probability p, and failure (0) with probability 1-p. It's the simplest discrete distribution.\n",
        "8. What is the binomial distribution, and how is it used in probability?\n",
        "  - The binomial distribution models the number of successes in a fixed number of independent Bernoulli trials. It is defined by parameters n (number of trials) and p (success probability).\n",
        "9. What is the Poisson distribution and where is it applied?\n",
        "  - The Poisson distribution models the number of events happening in a fixed interval of time or space, given a known average rate (λ). It is used for rare event counts like calls per hour or decay of particles.\n",
        "10. What is a continuous uniform distribution?\n",
        "  - A continuous uniform distribution is where all outcomes in a continuous interval [a, b] are equally likely. The PDF is constant over [a, b] and zero elsewhere.\n",
        "11. What are the characteristics of a normal distribution?\n",
        "  - A normal distribution is symmetric, bell-shaped, and characterized by its mean (μ) and standard deviation (σ). The mean, median, and mode are all equal. It follows the empirical rule: ~68% of data within 1σ, ~95% within 2σ, ~99.7% within 3σ.\n",
        "12. What is the standard normal distribution, and why is it important?\n",
        "  - The standard normal distribution is a special case of the normal distribution with a mean of 0 and standard deviation of 1. It is used to calculate probabilities and compare values from different normal distributions using Z-scores.\n",
        "13. What is the Central Limit Theorem (CLT), and why is it critical in statistics?\n",
        "  - The CLT states that the sampling distribution of the sample mean approaches a normal distribution as the sample size increases, regardless of the original population's distribution. This enables the use of normal distribution in inferential statistics.\n",
        "14. How does the Central Limit Theorem relate to the normal distribution?\n",
        "  - The CLT ensures that sample means from any distribution will tend to follow a normal distribution as sample size grows, allowing us to apply techniques that assume normality even when the underlying data isn't normally distributed.\n",
        "15. What is the application of Z statistics in hypothesis testing?\n",
        "  - Z statistics are used in hypothesis testing to determine how far a sample mean is from the population mean in terms of standard errors. It helps in deciding whether to reject the null hypothesis.\n",
        "16. How do you calculate a Z-score, and what does it represent?\n",
        "  - Z-score = (X - μ) / σ, where X is the value, μ is the mean, and σ is the standard deviation. It represents how many standard deviations a data point is from the mean.\n",
        "17. What are point estimates and interval estimates in statistics?\n",
        "  - A point estimate provides a single value as an estimate of a population parameter. An interval estimate gives a range (usually a confidence interval) within which the parameter is expected to lie.\n",
        "18. What is the significance of confidence intervals in statistical analysis?\n",
        "  - Confidence intervals provide a range of values within which the true population parameter is likely to fall. They indicate the reliability of an estimate and are used in inferential statistics.\n",
        "19. What is the relationship between a Z-score and a confidence interval?\n",
        "  - Z-scores define the boundaries of a confidence interval in a standard normal distribution. For example, a 95% confidence interval corresponds to Z-scores of ±1.96.\n",
        "20. How are Z-scores used to compare different distributions?\n",
        "  - Z-scores standardize values from different distributions, allowing direct comparison by showing how far each value is from its respective mean in terms of standard deviations.\n",
        "21. What are the assumptions for applying the Central Limit Theorem?\n",
        "  - The main assumptions are: (1) samples must be independent and identically distributed (i.i.d.), (2) the sample size should be sufficiently large (usually n ≥ 30), (3) population variance should be finite.\n",
        "22. What is the concept of expected value in a probability distribution?\n",
        "  - The expected value is the long-run average value of repetitions of the experiment. For a discrete variable: E(X) = Σ[x * P(x)], and for a continuous variable, it's the integral of x * f(x) dx over the domain.\n",
        "23. How does a probability distribution relate to the expected outcome of a random variable?\n",
        "  - A probability distribution describes how probabilities are assigned to outcomes, and the expected value is a weighted average of all outcomes based on these probabilities.                            \n"
      ],
      "metadata": {
        "id": "mzPk_dQH7X0c"
      }
    }
  ]
}